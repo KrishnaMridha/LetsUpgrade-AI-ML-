{
 "cells": [
  {
   "cell_type": "code",
   "execution_count": 11,
   "metadata": {},
   "outputs": [
    {
     "name": "stdout",
     "output_type": "stream",
     "text": [
      "2\n",
      "3\n",
      "5\n",
      "7\n",
      "11\n",
      "13\n",
      "17\n",
      "19\n"
     ]
    }
   ],
   "source": [
    "#Question 1 :\n",
    "#Write a Python program to find the first 20 non-even prime natural numbers.\n",
    "start=2\n",
    "end  =20\n",
    "for i in range(2,20):\n",
    "    for j in range(2,i):\n",
    "        if (i%j==0):\n",
    "            break;\n",
    "    else:\n",
    "        print(i)\n",
    "            "
   ]
  },
  {
   "cell_type": "code",
   "execution_count": 45,
   "metadata": {},
   "outputs": [
    {
     "name": "stdout",
     "output_type": "stream",
     "text": [
      "<class 'str'>\n",
      "21\n",
      "i love You Bangladesh\n",
      "i love you bangladesh\n",
      "i* *l*o*v*e* *Y*o*u* *B*a*n*g*l*a*d*e*s*h\n",
      "11\n",
      "False\n",
      "False\n",
      "False\n",
      "False\n",
      "False\n",
      "False\n",
      "False\n",
      "False\n",
      "i love you Bangladesh\n"
     ]
    }
   ],
   "source": [
    "# Question 2 :\n",
    "# Write a Python program to implement 15 functions of string.\n",
    "\n",
    "str = 'i love You Bangladesh'\n",
    "print(type(str))\n",
    "print(len(str))\n",
    "print(str[:])\n",
    "print(str.lower())\n",
    "print(\"*\".join(str))\n",
    "print(str.index(\"Banglades\"))\n",
    "print(str.isalpha())\n",
    "print(str.isalnum())\n",
    "print(str.isdecimal())\n",
    "print(str.isdigit())\n",
    "print(str.isnumeric())\n",
    "print(str.isspace())\n",
    "print(str.islower())\n",
    "print(str.isupper())\n",
    "print(str.replace('You','you'))"
   ]
  },
  {
   "cell_type": "code",
   "execution_count": 65,
   "metadata": {},
   "outputs": [
    {
     "data": {
      "text/plain": [
       "True"
      ]
     },
     "execution_count": 65,
     "metadata": {},
     "output_type": "execute_result"
    }
   ],
   "source": [
    "# Question 3:\n",
    "# Write a Python program to check if the given string is a Palindrome or Anagram or None of them. Display\n",
    "# the message accordingly to the user.\n",
    "\n",
    "def anagram(str1,str2):\n",
    "    n1=len(str1)\n",
    "    n2=len(str2)\n",
    "    if(n1 !=n2):\n",
    "      return False\n",
    "    str1 = str1.lower()\n",
    "    str2 = str2.lower()\n",
    "    str1=sorted(str1)\n",
    "    str2=sorted(str2)\n",
    "    for i in range(n1):\n",
    "        if str1[i]!=str2[i]:\n",
    "            return False\n",
    "    return True\n",
    "\n",
    "anagram('madam','mAadm')"
   ]
  },
  {
   "cell_type": "code",
   "execution_count": 69,
   "metadata": {},
   "outputs": [
    {
     "data": {
      "text/plain": [
       "'DrDarshanIngleAIMLTrainer'"
      ]
     },
     "execution_count": 69,
     "metadata": {},
     "output_type": "execute_result"
    }
   ],
   "source": [
    "# Question 4:\n",
    "# Write a Python's user-defined function that removes all the additional characters from the string and\n",
    "# convert it finally to lower case using built-in lower(). eg: If the string is \"Dr. Darshan Ingle @AIML Trainer\",\n",
    "# then the output be \"drdarshaningleaimltrainer\".\n",
    "\n",
    "def string_convert(str):\n",
    "    new_list=''\n",
    "    for char in str:\n",
    "        if char.isalpha():\n",
    "            new_list +=char\n",
    "    return new_list.lowr\n",
    "\n",
    "string_convert(\"Dr. Darshan Ingle @AIML Trainer\")\n",
    "        "
   ]
  },
  {
   "cell_type": "code",
   "execution_count": null,
   "metadata": {},
   "outputs": [],
   "source": []
  },
  {
   "cell_type": "code",
   "execution_count": null,
   "metadata": {},
   "outputs": [],
   "source": []
  }
 ],
 "metadata": {
  "kernelspec": {
   "display_name": "Python 3",
   "language": "python",
   "name": "python3"
  },
  "language_info": {
   "codemirror_mode": {
    "name": "ipython",
    "version": 3
   },
   "file_extension": ".py",
   "mimetype": "text/x-python",
   "name": "python",
   "nbconvert_exporter": "python",
   "pygments_lexer": "ipython3",
   "version": "3.7.6"
  }
 },
 "nbformat": 4,
 "nbformat_minor": 4
}
