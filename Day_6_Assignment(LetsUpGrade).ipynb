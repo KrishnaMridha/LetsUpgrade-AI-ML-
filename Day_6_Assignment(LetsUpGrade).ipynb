{
 "cells": [
  {
   "cell_type": "code",
   "execution_count": null,
   "metadata": {},
   "outputs": [],
   "source": [
    "# Question 1 : Assuming that we have some email addresses in the \"username@companyname.com\" format, \n",
    "# pleasewrite a program to print the company name of a given email address. \n",
    "# Both user names and companynames are composed of letters only.Input Format: \n",
    "# The first line of the input contains an email address.Output Format:Print the company name in a single line.\n",
    "# Example;Input:john@google.comOutput:google.\n",
    "\n",
    "def companyname(str):\n",
    "    new_list=\"\"\n",
    "    for i in range(len(str)):\n",
    "        if(str[i] == '@'):\n",
    "            j=i\n",
    "            for j in range(j+1,len(str)):\n",
    "                if(str[j] == '.'):\n",
    "                    break\n",
    "                else:\n",
    "                    new_list +=str[j]\n",
    "              \n",
    "    return new_list         \n",
    "\n",
    "companyname('krishnactm.km@letsupgrade.com')"
   ]
  },
  {
   "cell_type": "code",
   "execution_count": 55,
   "metadata": {},
   "outputs": [
    {
     "name": "stdout",
     "output_type": "stream",
     "text": [
      "bag,hello,without,world\n"
     ]
    }
   ],
   "source": [
    "# Question 2 : Write a program that accepts a comma-separated sequence of words as input and \n",
    "# prints the words in acomma-separated sequence after sorting them alphabetically.\n",
    "# Input Format:The first line of input contains words separated by the comma.\n",
    "# Output Format:Print the sorted words separated by the comma.\n",
    "# Example:Input:without,hello,bag,worldOutput:bag,hello,without,world\n",
    "\n",
    "def comma_separate(str):\n",
    "    new_list=[]\n",
    "    for i in str.split(','):\n",
    "        new_list.append(i)\n",
    "    x = sorted(new_list)\n",
    "    print(','.join(x))\n",
    "comma_separate('without,hello,bag,world')"
   ]
  },
  {
   "cell_type": "code",
   "execution_count": 72,
   "metadata": {},
   "outputs": [
    {
     "name": "stdout",
     "output_type": "stream",
     "text": [
      "<class 'set'>\n",
      "5\n"
     ]
    },
    {
     "data": {
      "text/plain": [
       "{23, 'Marwadi University', 'bangladesh', 'ce', 'gujarat', 'krishna'}"
      ]
     },
     "execution_count": 72,
     "metadata": {},
     "output_type": "execute_result"
    }
   ],
   "source": [
    "# Question 3:Create your own Jupyter Notebook for Sets. Reference link:\n",
    "\n",
    "x ={'krishna','bangladesh',23,'ce','gujarat'}\n",
    "x\n",
    "print(type(x))\n",
    "print(len(x))\n",
    "x.add('Marwadi University')\n",
    "x"
   ]
  },
  {
   "cell_type": "code",
   "execution_count": 154,
   "metadata": {},
   "outputs": [
    {
     "name": "stdout",
     "output_type": "stream",
     "text": [
      "5\n"
     ]
    }
   ],
   "source": [
    "# Question 4: \n",
    "# Given a list of n-1 numbers ranging from 1 to n, your task is to find the missing number. \n",
    "# There are noduplicates.Input Format:The first line contains n-1 numbers with each number separated by a space.\n",
    "# Output Format:Print the missing numberExample:Input:1 2 4 6 3 7 8\n",
    "# Output:5\n",
    "# Explanation:In the above list of numbers 5 is missing and hence 5 is the input\n",
    "\n",
    "li = [int(x) for x in range(1,9)]\n",
    "\n",
    "n=[]\n",
    "x='1 2 4 6 3 7 8'\n",
    "for i in x.split(' '):\n",
    "    n.append(int(i))\n",
    "for i in li:\n",
    "    if i not in n:\n",
    "        print(i)\n",
    "    "
   ]
  },
  {
   "cell_type": "code",
   "execution_count": 163,
   "metadata": {},
   "outputs": [
    {
     "name": "stdout",
     "output_type": "stream",
     "text": [
      "[1, 3, 5, 6]\n"
     ]
    }
   ],
   "source": [
    "# Question 5:With a given list L, write a program to print this list L after removing all duplicate values with\n",
    "# original orderreserved.Example:If the input list is12 24 35 24 88 120 155 88 120 155\n",
    "# Then the output should be12 24 35 88 120 155Explanation:Third, the seventh and ninth element of the list \n",
    "# L has been removed because it was already present.Input Format:In one line take the elements of the list \n",
    "# L with each element separated by a space.Output Format:Print the elements of the modified list in one line \n",
    "# with each element separated by a space.\n",
    "# Example:Input:12 24 35 24Output:12 24 35\n",
    "            \n",
    "def duplicates (str):\n",
    "    new_list=[]\n",
    "    for i in str:\n",
    "        if i not in new_list:\n",
    "            new_list.append(i)\n",
    "    print(new_list)\n",
    "duplicates([1,3,5,6,5,6])"
   ]
  },
  {
   "cell_type": "code",
   "execution_count": null,
   "metadata": {},
   "outputs": [],
   "source": []
  }
 ],
 "metadata": {
  "kernelspec": {
   "display_name": "Python 3",
   "language": "python",
   "name": "python3"
  },
  "language_info": {
   "codemirror_mode": {
    "name": "ipython",
    "version": 3
   },
   "file_extension": ".py",
   "mimetype": "text/x-python",
   "name": "python",
   "nbconvert_exporter": "python",
   "pygments_lexer": "ipython3",
   "version": "3.7.6"
  }
 },
 "nbformat": 4,
 "nbformat_minor": 4
}
