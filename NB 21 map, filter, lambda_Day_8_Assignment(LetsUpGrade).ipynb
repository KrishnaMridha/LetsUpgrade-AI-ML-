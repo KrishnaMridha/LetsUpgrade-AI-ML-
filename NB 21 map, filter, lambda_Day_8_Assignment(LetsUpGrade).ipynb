{
 "cells": [
  {
   "cell_type": "code",
   "execution_count": 6,
   "metadata": {},
   "outputs": [
    {
     "name": "stdout",
     "output_type": "stream",
     "text": [
      "[18.92, 37.09, 10.56, 95.45, 4.67, 78.85, 21.07]\n",
      "['olumide', 'josiah', 'omoseun']\n",
      "24840\n"
     ]
    }
   ],
   "source": [
    "# Question 1:Recreate “NB 21 map, filter, lambda.ipynb” to try different variations \n",
    "# or perform different calculations fromthe ones that are in the NB\n",
    "\n",
    "\n",
    "#### Map\n",
    "from functools import reduce \n",
    "\n",
    "my_floats = [4.35, 6.09, 3.25, 9.77, 2.16, 8.88, 4.59]\n",
    "my_names = [\"olumide\", \"akinremi\", \"josiah\", \"temidayo\", \"omoseun\"]\n",
    "my_numbers = [4, 6, 9, 23, 5]\n",
    "\n",
    "map_result = list(map(lambda x: round(x ** 2, 2), my_floats))\n",
    "filter_result = list(filter(lambda name: len(name) <= 7, my_names))\n",
    "reduce_result = reduce(lambda num1, num2: num1 * num2, my_numbers)\n",
    "\n",
    "print(map_result)\n",
    "print(filter_result)\n",
    "print(reduce_result)"
   ]
  },
  {
   "cell_type": "code",
   "execution_count": 27,
   "metadata": {},
   "outputs": [
    {
     "name": "stdout",
     "output_type": "stream",
     "text": [
      "5000\n",
      "krishna\n",
      "Name is :  krishna Salary is :  5000\n"
     ]
    }
   ],
   "source": [
    "# Question 1:Recreate “NB 21 map, filter, lambda.ipynb” to try different variations \n",
    "# or perform different calculations fromthe ones that are in the NB\n",
    "\n",
    "class abc:\n",
    "    def __init__(self,name,salary):\n",
    "        self.name=name\n",
    "        self.salary=salary\n",
    "        print(self.salary)\n",
    "        print(self.name)\n",
    "    def display(self):\n",
    "        print(\"Name is : \",self.name,\"Salary is : \",self.salary)\n",
    "\n",
    "x=abc('krishna',5000)\n",
    "x.display()"
   ]
  },
  {
   "cell_type": "code",
   "execution_count": null,
   "metadata": {},
   "outputs": [],
   "source": []
  },
  {
   "cell_type": "code",
   "execution_count": null,
   "metadata": {},
   "outputs": [],
   "source": []
  }
 ],
 "metadata": {
  "kernelspec": {
   "display_name": "Python 3",
   "language": "python",
   "name": "python3"
  },
  "language_info": {
   "codemirror_mode": {
    "name": "ipython",
    "version": 3
   },
   "file_extension": ".py",
   "mimetype": "text/x-python",
   "name": "python",
   "nbconvert_exporter": "python",
   "pygments_lexer": "ipython3",
   "version": "3.7.6"
  }
 },
 "nbformat": 4,
 "nbformat_minor": 4
}
