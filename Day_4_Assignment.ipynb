{
 "cells": [
  {
   "cell_type": "markdown",
   "metadata": {},
   "source": [
    "# Question 1 :Research on whether addition, subtraction, multiplication, division, floor division, and modulo operationsbe performed on complex numbers. Based on your study, implement a Python program to demonstratethese operations."
   ]
  },
  {
   "cell_type": "code",
   "execution_count": 1,
   "metadata": {},
   "outputs": [
    {
     "name": "stdout",
     "output_type": "stream",
     "text": [
      "The Addition operation :  11\n"
     ]
    }
   ],
   "source": [
    "print(\"The Addition operation : \",(5+6))"
   ]
  },
  {
   "cell_type": "code",
   "execution_count": 2,
   "metadata": {},
   "outputs": [
    {
     "name": "stdout",
     "output_type": "stream",
     "text": [
      "The Abstaction :  1\n"
     ]
    }
   ],
   "source": [
    "print(\"The Abstaction : \",(6-5))"
   ]
  },
  {
   "cell_type": "code",
   "execution_count": 3,
   "metadata": {},
   "outputs": [
    {
     "name": "stdout",
     "output_type": "stream",
     "text": [
      "The Multiplication :  30\n"
     ]
    }
   ],
   "source": [
    "print(\"The Multiplication : \",(5*6))"
   ]
  },
  {
   "cell_type": "code",
   "execution_count": 4,
   "metadata": {},
   "outputs": [
    {
     "name": "stdout",
     "output_type": "stream",
     "text": [
      "The Division :  1.0\n"
     ]
    }
   ],
   "source": [
    "print(\"The Division : \",(6/6))\n"
   ]
  },
  {
   "cell_type": "code",
   "execution_count": 5,
   "metadata": {},
   "outputs": [
    {
     "name": "stdout",
     "output_type": "stream",
     "text": [
      "The modulo operation :  1\n"
     ]
    }
   ],
   "source": [
    "print(\"The modulo operation : \",(6%5))"
   ]
  },
  {
   "cell_type": "code",
   "execution_count": 6,
   "metadata": {},
   "outputs": [
    {
     "name": "stdout",
     "output_type": "stream",
     "text": [
      "The Complex operation :  (-2+0j)\n"
     ]
    }
   ],
   "source": [
    "print(\"The Complex operation : \",(5+6j)-(7+6j))"
   ]
  },
  {
   "cell_type": "markdown",
   "metadata": {},
   "source": [
    "# Question 2 :Research on range() functions and its parameters. Create a markdown cell and write in your own words(no copy-paste from google please) what you understand about it. Implement a small program of yourchoice on the same."
   ]
  },
  {
   "cell_type": "code",
   "execution_count": 7,
   "metadata": {},
   "outputs": [
    {
     "name": "stdout",
     "output_type": "stream",
     "text": [
      "The total summation from 0 to 49 is :  1225\n"
     ]
    }
   ],
   "source": [
    "sum=0\n",
    "for i in range(50):\n",
    "    sum +=i\n",
    "print(\"The total summation from 0 to 49 is : \",sum)"
   ]
  },
  {
   "cell_type": "markdown",
   "metadata": {},
   "source": [
    "# Question 3:Consider two numbers. Perform their subtraction and if the result of subtraction is greater than 25, printtheir multiplication result else print their division result"
   ]
  },
  {
   "cell_type": "code",
   "execution_count": 9,
   "metadata": {},
   "outputs": [
    {
     "name": "stdout",
     "output_type": "stream",
     "text": [
      "The first number : 100\n",
      "The second number : 45\n",
      "Multiplication of two number is  4500\n"
     ]
    }
   ],
   "source": [
    "a = int(input(\"The first number : \"))\n",
    "b = int(input(\"The second number : \"))\n",
    "if (a-b)>25:\n",
    "    print(\"Multiplication of two number is \",(a*b))\n",
    "else: \n",
    "    print(\"The Division of two number is : \",(a/b))"
   ]
  },
  {
   "cell_type": "markdown",
   "metadata": {},
   "source": [
    "# Question 4:Consider a list of 10 elements of integer values. If the number in the list is divisible by 2, print the result as\"square of that number minus 2\"."
   ]
  },
  {
   "cell_type": "code",
   "execution_count": 14,
   "metadata": {},
   "outputs": [
    {
     "name": "stdout",
     "output_type": "stream",
     "text": [
      "square of that number minus 2\n",
      "square of that number minus 2\n",
      "square of that number minus 2\n",
      "square of that number minus 2\n",
      "square of that number minus 2\n"
     ]
    }
   ],
   "source": [
    "item = [x for x in range(1,11)]\n",
    "for i in item:\n",
    "    if (i%2==0):\n",
    "        print(\"square of that number minus 2\")"
   ]
  },
  {
   "cell_type": "markdown",
   "metadata": {},
   "source": [
    "# Question 5:Consider a list of 10 elements. Print all the elements in the list which are greater than 7 when that numberis divided 2."
   ]
  },
  {
   "cell_type": "code",
   "execution_count": 15,
   "metadata": {},
   "outputs": [],
   "source": [
    "item = [x for x in range(20,31)]"
   ]
  },
  {
   "cell_type": "code",
   "execution_count": 17,
   "metadata": {},
   "outputs": [
    {
     "name": "stdout",
     "output_type": "stream",
     "text": [
      "20\n",
      "22\n",
      "24\n",
      "26\n",
      "28\n",
      "30\n"
     ]
    }
   ],
   "source": [
    "for i in item:\n",
    "    if (i>7 and i%2==0):\n",
    "        print(i)"
   ]
  },
  {
   "cell_type": "code",
   "execution_count": null,
   "metadata": {},
   "outputs": [],
   "source": []
  }
 ],
 "metadata": {
  "kernelspec": {
   "display_name": "Python 3",
   "language": "python",
   "name": "python3"
  },
  "language_info": {
   "codemirror_mode": {
    "name": "ipython",
    "version": 3
   },
   "file_extension": ".py",
   "mimetype": "text/x-python",
   "name": "python",
   "nbconvert_exporter": "python",
   "pygments_lexer": "ipython3",
   "version": "3.7.6"
  }
 },
 "nbformat": 4,
 "nbformat_minor": 4
}
